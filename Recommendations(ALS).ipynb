{
  "nbformat": 4,
  "nbformat_minor": 0,
  "metadata": {
    "colab": {
      "provenance": []
    },
    "kernelspec": {
      "name": "python3",
      "display_name": "Python 3"
    },
    "language_info": {
      "name": "python"
    },
    "widgets": {
      "application/vnd.jupyter.widget-state+json": {
        "a6729468f1bf464fbedc8dfc010cb395": {
          "model_module": "@jupyter-widgets/controls",
          "model_name": "HBoxModel",
          "model_module_version": "1.5.0",
          "state": {
            "_dom_classes": [],
            "_model_module": "@jupyter-widgets/controls",
            "_model_module_version": "1.5.0",
            "_model_name": "HBoxModel",
            "_view_count": null,
            "_view_module": "@jupyter-widgets/controls",
            "_view_module_version": "1.5.0",
            "_view_name": "HBoxView",
            "box_style": "",
            "children": [
              "IPY_MODEL_8e6da8ee69d54462a819e4d0f679d6c7",
              "IPY_MODEL_006e68d05f8a42c190370b288de16f6e",
              "IPY_MODEL_6b67e9e4d43244518302e625006ff67f"
            ],
            "layout": "IPY_MODEL_da966395e07f40e08c544e0d8ef6194f"
          }
        },
        "8e6da8ee69d54462a819e4d0f679d6c7": {
          "model_module": "@jupyter-widgets/controls",
          "model_name": "HTMLModel",
          "model_module_version": "1.5.0",
          "state": {
            "_dom_classes": [],
            "_model_module": "@jupyter-widgets/controls",
            "_model_module_version": "1.5.0",
            "_model_name": "HTMLModel",
            "_view_count": null,
            "_view_module": "@jupyter-widgets/controls",
            "_view_module_version": "1.5.0",
            "_view_name": "HTMLView",
            "description": "",
            "description_tooltip": null,
            "layout": "IPY_MODEL_9bed884acf834f6385eb71439ad74203",
            "placeholder": "​",
            "style": "IPY_MODEL_06567a3d528f46e58b6eac3856edd559",
            "value": "100%"
          }
        },
        "006e68d05f8a42c190370b288de16f6e": {
          "model_module": "@jupyter-widgets/controls",
          "model_name": "FloatProgressModel",
          "model_module_version": "1.5.0",
          "state": {
            "_dom_classes": [],
            "_model_module": "@jupyter-widgets/controls",
            "_model_module_version": "1.5.0",
            "_model_name": "FloatProgressModel",
            "_view_count": null,
            "_view_module": "@jupyter-widgets/controls",
            "_view_module_version": "1.5.0",
            "_view_name": "ProgressView",
            "bar_style": "success",
            "description": "",
            "description_tooltip": null,
            "layout": "IPY_MODEL_7b0d5838c6bd48b8a73fca1033aeb468",
            "max": 100,
            "min": 0,
            "orientation": "horizontal",
            "style": "IPY_MODEL_3daf9551cf10425fbcc87a99af71de64",
            "value": 100
          }
        },
        "6b67e9e4d43244518302e625006ff67f": {
          "model_module": "@jupyter-widgets/controls",
          "model_name": "HTMLModel",
          "model_module_version": "1.5.0",
          "state": {
            "_dom_classes": [],
            "_model_module": "@jupyter-widgets/controls",
            "_model_module_version": "1.5.0",
            "_model_name": "HTMLModel",
            "_view_count": null,
            "_view_module": "@jupyter-widgets/controls",
            "_view_module_version": "1.5.0",
            "_view_name": "HTMLView",
            "description": "",
            "description_tooltip": null,
            "layout": "IPY_MODEL_e2160626328d459492ec07b453af8efe",
            "placeholder": "​",
            "style": "IPY_MODEL_62fac6b7e2ff49c5ba35360b0ca690d1",
            "value": " 100/100 [00:20&lt;00:00,  6.65it/s]"
          }
        },
        "da966395e07f40e08c544e0d8ef6194f": {
          "model_module": "@jupyter-widgets/base",
          "model_name": "LayoutModel",
          "model_module_version": "1.2.0",
          "state": {
            "_model_module": "@jupyter-widgets/base",
            "_model_module_version": "1.2.0",
            "_model_name": "LayoutModel",
            "_view_count": null,
            "_view_module": "@jupyter-widgets/base",
            "_view_module_version": "1.2.0",
            "_view_name": "LayoutView",
            "align_content": null,
            "align_items": null,
            "align_self": null,
            "border": null,
            "bottom": null,
            "display": null,
            "flex": null,
            "flex_flow": null,
            "grid_area": null,
            "grid_auto_columns": null,
            "grid_auto_flow": null,
            "grid_auto_rows": null,
            "grid_column": null,
            "grid_gap": null,
            "grid_row": null,
            "grid_template_areas": null,
            "grid_template_columns": null,
            "grid_template_rows": null,
            "height": null,
            "justify_content": null,
            "justify_items": null,
            "left": null,
            "margin": null,
            "max_height": null,
            "max_width": null,
            "min_height": null,
            "min_width": null,
            "object_fit": null,
            "object_position": null,
            "order": null,
            "overflow": null,
            "overflow_x": null,
            "overflow_y": null,
            "padding": null,
            "right": null,
            "top": null,
            "visibility": null,
            "width": null
          }
        },
        "9bed884acf834f6385eb71439ad74203": {
          "model_module": "@jupyter-widgets/base",
          "model_name": "LayoutModel",
          "model_module_version": "1.2.0",
          "state": {
            "_model_module": "@jupyter-widgets/base",
            "_model_module_version": "1.2.0",
            "_model_name": "LayoutModel",
            "_view_count": null,
            "_view_module": "@jupyter-widgets/base",
            "_view_module_version": "1.2.0",
            "_view_name": "LayoutView",
            "align_content": null,
            "align_items": null,
            "align_self": null,
            "border": null,
            "bottom": null,
            "display": null,
            "flex": null,
            "flex_flow": null,
            "grid_area": null,
            "grid_auto_columns": null,
            "grid_auto_flow": null,
            "grid_auto_rows": null,
            "grid_column": null,
            "grid_gap": null,
            "grid_row": null,
            "grid_template_areas": null,
            "grid_template_columns": null,
            "grid_template_rows": null,
            "height": null,
            "justify_content": null,
            "justify_items": null,
            "left": null,
            "margin": null,
            "max_height": null,
            "max_width": null,
            "min_height": null,
            "min_width": null,
            "object_fit": null,
            "object_position": null,
            "order": null,
            "overflow": null,
            "overflow_x": null,
            "overflow_y": null,
            "padding": null,
            "right": null,
            "top": null,
            "visibility": null,
            "width": null
          }
        },
        "06567a3d528f46e58b6eac3856edd559": {
          "model_module": "@jupyter-widgets/controls",
          "model_name": "DescriptionStyleModel",
          "model_module_version": "1.5.0",
          "state": {
            "_model_module": "@jupyter-widgets/controls",
            "_model_module_version": "1.5.0",
            "_model_name": "DescriptionStyleModel",
            "_view_count": null,
            "_view_module": "@jupyter-widgets/base",
            "_view_module_version": "1.2.0",
            "_view_name": "StyleView",
            "description_width": ""
          }
        },
        "7b0d5838c6bd48b8a73fca1033aeb468": {
          "model_module": "@jupyter-widgets/base",
          "model_name": "LayoutModel",
          "model_module_version": "1.2.0",
          "state": {
            "_model_module": "@jupyter-widgets/base",
            "_model_module_version": "1.2.0",
            "_model_name": "LayoutModel",
            "_view_count": null,
            "_view_module": "@jupyter-widgets/base",
            "_view_module_version": "1.2.0",
            "_view_name": "LayoutView",
            "align_content": null,
            "align_items": null,
            "align_self": null,
            "border": null,
            "bottom": null,
            "display": null,
            "flex": null,
            "flex_flow": null,
            "grid_area": null,
            "grid_auto_columns": null,
            "grid_auto_flow": null,
            "grid_auto_rows": null,
            "grid_column": null,
            "grid_gap": null,
            "grid_row": null,
            "grid_template_areas": null,
            "grid_template_columns": null,
            "grid_template_rows": null,
            "height": null,
            "justify_content": null,
            "justify_items": null,
            "left": null,
            "margin": null,
            "max_height": null,
            "max_width": null,
            "min_height": null,
            "min_width": null,
            "object_fit": null,
            "object_position": null,
            "order": null,
            "overflow": null,
            "overflow_x": null,
            "overflow_y": null,
            "padding": null,
            "right": null,
            "top": null,
            "visibility": null,
            "width": null
          }
        },
        "3daf9551cf10425fbcc87a99af71de64": {
          "model_module": "@jupyter-widgets/controls",
          "model_name": "ProgressStyleModel",
          "model_module_version": "1.5.0",
          "state": {
            "_model_module": "@jupyter-widgets/controls",
            "_model_module_version": "1.5.0",
            "_model_name": "ProgressStyleModel",
            "_view_count": null,
            "_view_module": "@jupyter-widgets/base",
            "_view_module_version": "1.2.0",
            "_view_name": "StyleView",
            "bar_color": null,
            "description_width": ""
          }
        },
        "e2160626328d459492ec07b453af8efe": {
          "model_module": "@jupyter-widgets/base",
          "model_name": "LayoutModel",
          "model_module_version": "1.2.0",
          "state": {
            "_model_module": "@jupyter-widgets/base",
            "_model_module_version": "1.2.0",
            "_model_name": "LayoutModel",
            "_view_count": null,
            "_view_module": "@jupyter-widgets/base",
            "_view_module_version": "1.2.0",
            "_view_name": "LayoutView",
            "align_content": null,
            "align_items": null,
            "align_self": null,
            "border": null,
            "bottom": null,
            "display": null,
            "flex": null,
            "flex_flow": null,
            "grid_area": null,
            "grid_auto_columns": null,
            "grid_auto_flow": null,
            "grid_auto_rows": null,
            "grid_column": null,
            "grid_gap": null,
            "grid_row": null,
            "grid_template_areas": null,
            "grid_template_columns": null,
            "grid_template_rows": null,
            "height": null,
            "justify_content": null,
            "justify_items": null,
            "left": null,
            "margin": null,
            "max_height": null,
            "max_width": null,
            "min_height": null,
            "min_width": null,
            "object_fit": null,
            "object_position": null,
            "order": null,
            "overflow": null,
            "overflow_x": null,
            "overflow_y": null,
            "padding": null,
            "right": null,
            "top": null,
            "visibility": null,
            "width": null
          }
        },
        "62fac6b7e2ff49c5ba35360b0ca690d1": {
          "model_module": "@jupyter-widgets/controls",
          "model_name": "DescriptionStyleModel",
          "model_module_version": "1.5.0",
          "state": {
            "_model_module": "@jupyter-widgets/controls",
            "_model_module_version": "1.5.0",
            "_model_name": "DescriptionStyleModel",
            "_view_count": null,
            "_view_module": "@jupyter-widgets/base",
            "_view_module_version": "1.2.0",
            "_view_name": "StyleView",
            "description_width": ""
          }
        },
        "84146973d37f4b9caa1aa9eace685bc4": {
          "model_module": "@jupyter-widgets/controls",
          "model_name": "HBoxModel",
          "model_module_version": "1.5.0",
          "state": {
            "_dom_classes": [],
            "_model_module": "@jupyter-widgets/controls",
            "_model_module_version": "1.5.0",
            "_model_name": "HBoxModel",
            "_view_count": null,
            "_view_module": "@jupyter-widgets/controls",
            "_view_module_version": "1.5.0",
            "_view_name": "HBoxView",
            "box_style": "",
            "children": [
              "IPY_MODEL_b8032ba999ff495abe345c071503b734",
              "IPY_MODEL_7e392eb7e4344cabb1b6b945639039b8",
              "IPY_MODEL_ee937a0e6e7746cc8e1a447f82e16dff"
            ],
            "layout": "IPY_MODEL_31a4fc51a9c843059be1bac1c3863c40"
          }
        },
        "b8032ba999ff495abe345c071503b734": {
          "model_module": "@jupyter-widgets/controls",
          "model_name": "HTMLModel",
          "model_module_version": "1.5.0",
          "state": {
            "_dom_classes": [],
            "_model_module": "@jupyter-widgets/controls",
            "_model_module_version": "1.5.0",
            "_model_name": "HTMLModel",
            "_view_count": null,
            "_view_module": "@jupyter-widgets/controls",
            "_view_module_version": "1.5.0",
            "_view_name": "HTMLView",
            "description": "",
            "description_tooltip": null,
            "layout": "IPY_MODEL_80f07b87360345de9d34cc31bae9ff0d",
            "placeholder": "​",
            "style": "IPY_MODEL_1f777e9264e149cb9bd0e4452be38306",
            "value": ""
          }
        },
        "7e392eb7e4344cabb1b6b945639039b8": {
          "model_module": "@jupyter-widgets/controls",
          "model_name": "FloatProgressModel",
          "model_module_version": "1.5.0",
          "state": {
            "_dom_classes": [],
            "_model_module": "@jupyter-widgets/controls",
            "_model_module_version": "1.5.0",
            "_model_name": "FloatProgressModel",
            "_view_count": null,
            "_view_module": "@jupyter-widgets/controls",
            "_view_module_version": "1.5.0",
            "_view_name": "ProgressView",
            "bar_style": "success",
            "description": "",
            "description_tooltip": null,
            "layout": "IPY_MODEL_79bffeeca63b407588c6e0f3bb129f2e",
            "max": 1,
            "min": 0,
            "orientation": "horizontal",
            "style": "IPY_MODEL_853ab978c410481eb54db694c12eff40",
            "value": 1
          }
        },
        "ee937a0e6e7746cc8e1a447f82e16dff": {
          "model_module": "@jupyter-widgets/controls",
          "model_name": "HTMLModel",
          "model_module_version": "1.5.0",
          "state": {
            "_dom_classes": [],
            "_model_module": "@jupyter-widgets/controls",
            "_model_module_version": "1.5.0",
            "_model_name": "HTMLModel",
            "_view_count": null,
            "_view_module": "@jupyter-widgets/controls",
            "_view_module_version": "1.5.0",
            "_view_name": "HTMLView",
            "description": "",
            "description_tooltip": null,
            "layout": "IPY_MODEL_9fb645f45b674b319deb4850c214e283",
            "placeholder": "​",
            "style": "IPY_MODEL_3872d0ce49e14c1bbac040fb781892d0",
            "value": " 40076/? [02:32&lt;00:00, 305.98it/s]"
          }
        },
        "31a4fc51a9c843059be1bac1c3863c40": {
          "model_module": "@jupyter-widgets/base",
          "model_name": "LayoutModel",
          "model_module_version": "1.2.0",
          "state": {
            "_model_module": "@jupyter-widgets/base",
            "_model_module_version": "1.2.0",
            "_model_name": "LayoutModel",
            "_view_count": null,
            "_view_module": "@jupyter-widgets/base",
            "_view_module_version": "1.2.0",
            "_view_name": "LayoutView",
            "align_content": null,
            "align_items": null,
            "align_self": null,
            "border": null,
            "bottom": null,
            "display": null,
            "flex": null,
            "flex_flow": null,
            "grid_area": null,
            "grid_auto_columns": null,
            "grid_auto_flow": null,
            "grid_auto_rows": null,
            "grid_column": null,
            "grid_gap": null,
            "grid_row": null,
            "grid_template_areas": null,
            "grid_template_columns": null,
            "grid_template_rows": null,
            "height": null,
            "justify_content": null,
            "justify_items": null,
            "left": null,
            "margin": null,
            "max_height": null,
            "max_width": null,
            "min_height": null,
            "min_width": null,
            "object_fit": null,
            "object_position": null,
            "order": null,
            "overflow": null,
            "overflow_x": null,
            "overflow_y": null,
            "padding": null,
            "right": null,
            "top": null,
            "visibility": null,
            "width": null
          }
        },
        "80f07b87360345de9d34cc31bae9ff0d": {
          "model_module": "@jupyter-widgets/base",
          "model_name": "LayoutModel",
          "model_module_version": "1.2.0",
          "state": {
            "_model_module": "@jupyter-widgets/base",
            "_model_module_version": "1.2.0",
            "_model_name": "LayoutModel",
            "_view_count": null,
            "_view_module": "@jupyter-widgets/base",
            "_view_module_version": "1.2.0",
            "_view_name": "LayoutView",
            "align_content": null,
            "align_items": null,
            "align_self": null,
            "border": null,
            "bottom": null,
            "display": null,
            "flex": null,
            "flex_flow": null,
            "grid_area": null,
            "grid_auto_columns": null,
            "grid_auto_flow": null,
            "grid_auto_rows": null,
            "grid_column": null,
            "grid_gap": null,
            "grid_row": null,
            "grid_template_areas": null,
            "grid_template_columns": null,
            "grid_template_rows": null,
            "height": null,
            "justify_content": null,
            "justify_items": null,
            "left": null,
            "margin": null,
            "max_height": null,
            "max_width": null,
            "min_height": null,
            "min_width": null,
            "object_fit": null,
            "object_position": null,
            "order": null,
            "overflow": null,
            "overflow_x": null,
            "overflow_y": null,
            "padding": null,
            "right": null,
            "top": null,
            "visibility": null,
            "width": null
          }
        },
        "1f777e9264e149cb9bd0e4452be38306": {
          "model_module": "@jupyter-widgets/controls",
          "model_name": "DescriptionStyleModel",
          "model_module_version": "1.5.0",
          "state": {
            "_model_module": "@jupyter-widgets/controls",
            "_model_module_version": "1.5.0",
            "_model_name": "DescriptionStyleModel",
            "_view_count": null,
            "_view_module": "@jupyter-widgets/base",
            "_view_module_version": "1.2.0",
            "_view_name": "StyleView",
            "description_width": ""
          }
        },
        "79bffeeca63b407588c6e0f3bb129f2e": {
          "model_module": "@jupyter-widgets/base",
          "model_name": "LayoutModel",
          "model_module_version": "1.2.0",
          "state": {
            "_model_module": "@jupyter-widgets/base",
            "_model_module_version": "1.2.0",
            "_model_name": "LayoutModel",
            "_view_count": null,
            "_view_module": "@jupyter-widgets/base",
            "_view_module_version": "1.2.0",
            "_view_name": "LayoutView",
            "align_content": null,
            "align_items": null,
            "align_self": null,
            "border": null,
            "bottom": null,
            "display": null,
            "flex": null,
            "flex_flow": null,
            "grid_area": null,
            "grid_auto_columns": null,
            "grid_auto_flow": null,
            "grid_auto_rows": null,
            "grid_column": null,
            "grid_gap": null,
            "grid_row": null,
            "grid_template_areas": null,
            "grid_template_columns": null,
            "grid_template_rows": null,
            "height": null,
            "justify_content": null,
            "justify_items": null,
            "left": null,
            "margin": null,
            "max_height": null,
            "max_width": null,
            "min_height": null,
            "min_width": null,
            "object_fit": null,
            "object_position": null,
            "order": null,
            "overflow": null,
            "overflow_x": null,
            "overflow_y": null,
            "padding": null,
            "right": null,
            "top": null,
            "visibility": null,
            "width": "20px"
          }
        },
        "853ab978c410481eb54db694c12eff40": {
          "model_module": "@jupyter-widgets/controls",
          "model_name": "ProgressStyleModel",
          "model_module_version": "1.5.0",
          "state": {
            "_model_module": "@jupyter-widgets/controls",
            "_model_module_version": "1.5.0",
            "_model_name": "ProgressStyleModel",
            "_view_count": null,
            "_view_module": "@jupyter-widgets/base",
            "_view_module_version": "1.2.0",
            "_view_name": "StyleView",
            "bar_color": null,
            "description_width": ""
          }
        },
        "9fb645f45b674b319deb4850c214e283": {
          "model_module": "@jupyter-widgets/base",
          "model_name": "LayoutModel",
          "model_module_version": "1.2.0",
          "state": {
            "_model_module": "@jupyter-widgets/base",
            "_model_module_version": "1.2.0",
            "_model_name": "LayoutModel",
            "_view_count": null,
            "_view_module": "@jupyter-widgets/base",
            "_view_module_version": "1.2.0",
            "_view_name": "LayoutView",
            "align_content": null,
            "align_items": null,
            "align_self": null,
            "border": null,
            "bottom": null,
            "display": null,
            "flex": null,
            "flex_flow": null,
            "grid_area": null,
            "grid_auto_columns": null,
            "grid_auto_flow": null,
            "grid_auto_rows": null,
            "grid_column": null,
            "grid_gap": null,
            "grid_row": null,
            "grid_template_areas": null,
            "grid_template_columns": null,
            "grid_template_rows": null,
            "height": null,
            "justify_content": null,
            "justify_items": null,
            "left": null,
            "margin": null,
            "max_height": null,
            "max_width": null,
            "min_height": null,
            "min_width": null,
            "object_fit": null,
            "object_position": null,
            "order": null,
            "overflow": null,
            "overflow_x": null,
            "overflow_y": null,
            "padding": null,
            "right": null,
            "top": null,
            "visibility": null,
            "width": null
          }
        },
        "3872d0ce49e14c1bbac040fb781892d0": {
          "model_module": "@jupyter-widgets/controls",
          "model_name": "DescriptionStyleModel",
          "model_module_version": "1.5.0",
          "state": {
            "_model_module": "@jupyter-widgets/controls",
            "_model_module_version": "1.5.0",
            "_model_name": "DescriptionStyleModel",
            "_view_count": null,
            "_view_module": "@jupyter-widgets/base",
            "_view_module_version": "1.2.0",
            "_view_name": "StyleView",
            "description_width": ""
          }
        }
      }
    }
  },
  "cells": [
    {
      "cell_type": "code",
      "execution_count": null,
      "metadata": {
        "colab": {
          "base_uri": "https://localhost:8080/"
        },
        "id": "Le0CT_1R0Xpq",
        "outputId": "674579f9-66f0-4be1-8e9e-1cc89882ea00"
      },
      "outputs": [
        {
          "output_type": "stream",
          "name": "stdout",
          "text": [
            "\u001b[?25l   \u001b[90m━━━━━━━━━━━━━━━━━━━━━━━━━━━━━━━━━━━━━━━━\u001b[0m \u001b[32m0.0/8.9 MB\u001b[0m \u001b[31m?\u001b[0m eta \u001b[36m-:--:--\u001b[0m\r\u001b[2K   \u001b[91m━━━━━━━━━━━━\u001b[0m\u001b[91m╸\u001b[0m\u001b[90m━━━━━━━━━━━━━━━━━━━━━━━━━━━\u001b[0m \u001b[32m2.9/8.9 MB\u001b[0m \u001b[31m89.4 MB/s\u001b[0m eta \u001b[36m0:00:01\u001b[0m\r\u001b[2K   \u001b[91m━━━━━━━━━━━━━━━━━━━━━━━━━━━━━\u001b[0m\u001b[90m╺\u001b[0m\u001b[90m━━━━━━━━━━\u001b[0m \u001b[32m6.6/8.9 MB\u001b[0m \u001b[31m95.6 MB/s\u001b[0m eta \u001b[36m0:00:01\u001b[0m\r\u001b[2K   \u001b[91m━━━━━━━━━━━━━━━━━━━━━━━━━━━━━━━━━━━━━━━\u001b[0m\u001b[91m╸\u001b[0m \u001b[32m8.9/8.9 MB\u001b[0m \u001b[31m95.5 MB/s\u001b[0m eta \u001b[36m0:00:01\u001b[0m\r\u001b[2K   \u001b[91m━━━━━━━━━━━━━━━━━━━━━━━━━━━━━━━━━━━━━━━\u001b[0m\u001b[91m╸\u001b[0m \u001b[32m8.9/8.9 MB\u001b[0m \u001b[31m95.5 MB/s\u001b[0m eta \u001b[36m0:00:01\u001b[0m\r\u001b[2K   \u001b[90m━━━━━━━━━━━━━━━━━━━━━━━━━━━━━━━━━━━━━━━━\u001b[0m \u001b[32m8.9/8.9 MB\u001b[0m \u001b[31m58.8 MB/s\u001b[0m eta \u001b[36m0:00:00\u001b[0m\n",
            "\u001b[?25h"
          ]
        }
      ],
      "source": [
        "!pip install implicit -q"
      ]
    },
    {
      "cell_type": "code",
      "source": [
        "import pandas as pd\n",
        "import numpy as np\n",
        "import datetime\n",
        "import matplotlib.pyplot as plt\n",
        "from tqdm.notebook import tqdm\n",
        "import scipy\n",
        "from implicit.nearest_neighbours import bm25_weight\n",
        "import implicit"
      ],
      "metadata": {
        "id": "WXMsnsB9AcnO"
      },
      "execution_count": 16,
      "outputs": []
    },
    {
      "cell_type": "code",
      "source": [
        "def apk(actual, predicted, k=3):\n",
        "\n",
        "    if actual is None or len(actual) == 0:\n",
        "        return 0.0\n",
        "\n",
        "    if len(predicted) > k:\n",
        "        predicted = predicted[:k]\n",
        "\n",
        "    score = 0.0\n",
        "    num_hits = 0.0\n",
        "\n",
        "    for i, p in enumerate(predicted):\n",
        "        # first condition checks whether it is valid prediction\n",
        "        # second condition checks if prediction is not repeated\n",
        "        if p in actual and p not in predicted[:i]:\n",
        "            num_hits += 1.0\n",
        "            score += num_hits / (i + 1.0)\n",
        "\n",
        "    return score / min(len(actual), k)"
      ],
      "metadata": {
        "id": "1b_d1ES7Acp6"
      },
      "execution_count": null,
      "outputs": []
    },
    {
      "cell_type": "code",
      "source": [
        "def mapk(actual, predicted, k=3):\n",
        "\n",
        "    return np.mean([apk(a, p, k) for a, p in zip(actual, predicted)])"
      ],
      "metadata": {
        "id": "ycyK1AbrAcsu"
      },
      "execution_count": null,
      "outputs": []
    },
    {
      "cell_type": "code",
      "source": [
        "def get_date_k_weeks_before(cur_date: str, k: int = 2) -> str:\n",
        "\n",
        "    cur_date = datetime.datetime.strptime(cur_date, \"%Y-%m-%d\")\n",
        "    return (cur_date - datetime.timedelta(weeks=k)).strftime(\"%Y-%m-%d\")"
      ],
      "metadata": {
        "id": "EN8oEt2kAcvg"
      },
      "execution_count": null,
      "outputs": []
    },
    {
      "cell_type": "code",
      "source": [
        "def remove_duplicates_order(x: list) -> list:\n",
        "\n",
        "    return list(dict.fromkeys(x))\n"
      ],
      "metadata": {
        "id": "-Ix391-eAcyH"
      },
      "execution_count": null,
      "outputs": []
    },
    {
      "cell_type": "code",
      "source": [
        "def get_validation_split(\n",
        "    df: pd.DataFrame, timestamp_to_split: str\n",
        ") -> tuple[pd.DataFrame, pd.DataFrame, pd.DataFrame]:\n",
        "    df = df.sort_values(\"timestamp\", ascending=False)\n",
        "    data_train = df[df[\"timestamp\"] < timestamp_to_split]\n",
        "    val = df[df[\"timestamp\"] >= timestamp_to_split]\n",
        "\n",
        "    gt_val = val.groupby(\"user_id\")[[\"product_id\"]].agg(list).reset_index()\n",
        "    gt_val[\"product_id\"] = gt_val[\"product_id\"].apply(remove_duplicates_order)\n",
        "\n",
        "    timestamp_to_val_split = get_date_k_weeks_before(timestamp_to_split, k=2)\n",
        "    data_val = data_train[data_train[\"timestamp\"] >= timestamp_to_val_split]\n",
        "    data_train = data_train[\n",
        "        data_train[\"timestamp\"] < timestamp_to_val_split\n",
        "    ].reset_index(drop=True)\n",
        "\n",
        "    gt_val = gt_val[gt_val[\"user_id\"].isin(set(data_val[\"user_id\"]))].reset_index(\n",
        "        drop=True\n",
        "    )\n",
        "    data_val = data_val[data_val[\"user_id\"].isin(set(gt_val[\"user_id\"]))].reset_index(\n",
        "        drop=True\n",
        "    )\n",
        "\n",
        "    gt_val_val = data_val.groupby(\"user_id\")[[\"product_id\"]].agg(list).reset_index()\n",
        "\n",
        "    merged = gt_val_val.merge(gt_val, on=\"user_id\")\n",
        "\n",
        "    changed = []\n",
        "    for idx in merged.index:\n",
        "        prev, fut = merged.iloc[idx, 1:]\n",
        "        if isinstance(prev, int):\n",
        "            prev = [prev]\n",
        "        if isinstance(fut, int):\n",
        "            fut = [fut]\n",
        "        out = list(set(fut).difference(set(prev)))\n",
        "        if len(out) > 0:\n",
        "            changed.append(out)\n",
        "        else:\n",
        "            changed.append(np.NAN)\n",
        "\n",
        "    merged[\"product_id\"] = changed\n",
        "\n",
        "    merged = merged.dropna()\n",
        "\n",
        "    return (\n",
        "        data_train,\n",
        "        data_val,\n",
        "        merged[[\"user_id\", \"product_id\"]],\n",
        "        merged[[\"user_id\", \"product_id_x\"]],\n",
        "    )"
      ],
      "metadata": {
        "id": "uqSwwmMmA6Qk"
      },
      "execution_count": null,
      "outputs": []
    },
    {
      "cell_type": "code",
      "source": [
        "data = pd.read_parquet(\"/content/drive/MyDrive/train.parquet\")\n",
        "data_final_test = pd.read_parquet(\"/content/drive/MyDrive/test.parquet\")\n",
        "data[\"price\"] = data[\"price\"].astype(float)\n",
        "data_final_test[\"price\"] = data_final_test[\"price\"].astype(float)"
      ],
      "metadata": {
        "id": "QN_OyJhQA6S5"
      },
      "execution_count": 15,
      "outputs": []
    },
    {
      "cell_type": "code",
      "source": [
        "# Учим на данных с февраля так как там не менялись названия и категории товаров\n",
        "data_feb = data.loc[data[\"timestamp\"] >= \"2020-02-01\"]\n",
        "\n",
        "data_feb[\"timestamp\"].quantile(0.5, interpolation=\"nearest\")"
      ],
      "metadata": {
        "id": "LuDmwAIrA6YV",
        "colab": {
          "base_uri": "https://localhost:8080/"
        },
        "outputId": "aa002231-8861-4b2a-be5a-045b2e3539de"
      },
      "execution_count": 17,
      "outputs": [
        {
          "output_type": "execute_result",
          "data": {
            "text/plain": [
              "Timestamp('2020-02-14 07:48:09')"
            ]
          },
          "metadata": {},
          "execution_count": 17
        }
      ]
    },
    {
      "cell_type": "code",
      "source": [
        "data_train, data_val, gt_val, gt_val_val = get_validation_split(\n",
        "    df=data_feb, timestamp_to_split=\"2020-02-14\"\n",
        ")\n",
        "gt_val_val.columns = [\"user_id\", \"product_id\"]\n"
      ],
      "metadata": {
        "id": "MUCUdBCpDnlT"
      },
      "execution_count": 18,
      "outputs": []
    },
    {
      "cell_type": "code",
      "source": [
        "data_grouped = (\n",
        "    data_val.groupby([\"user_id\", \"product_id\"])[[\"timestamp\"]]\n",
        "    .count()\n",
        "    .reset_index()\n",
        "    .rename(columns={\"timestamp\": \"count\"})\n",
        ")\n",
        "data_grouped.info()"
      ],
      "metadata": {
        "colab": {
          "base_uri": "https://localhost:8080/"
        },
        "id": "WcS12ovXDnn7",
        "outputId": "05f9de21-7856-4174-fa78-1bec93cbdcbc"
      },
      "execution_count": 19,
      "outputs": [
        {
          "output_type": "stream",
          "name": "stdout",
          "text": [
            "<class 'pandas.core.frame.DataFrame'>\n",
            "RangeIndex: 106360 entries, 0 to 106359\n",
            "Data columns (total 3 columns):\n",
            " #   Column      Non-Null Count   Dtype\n",
            "---  ------      --------------   -----\n",
            " 0   user_id     106360 non-null  int64\n",
            " 1   product_id  106360 non-null  int64\n",
            " 2   count       106360 non-null  int64\n",
            "dtypes: int64(3)\n",
            "memory usage: 2.4 MB\n"
          ]
        }
      ]
    },
    {
      "cell_type": "code",
      "source": [
        "prd_set = set(data_grouped[\"product_id\"])\n",
        "print(f\"{len(prd_set)} unique product_id\")\n",
        "prd_dict = {url: idurl for url, idurl in zip(prd_set, range(len(prd_set)))}\n",
        "usr_set = set(data_grouped[\"user_id\"])\n",
        "print(f\"{len(usr_set)} unique users\")\n",
        "usr_dict = {usr: user_id for usr, user_id in zip(usr_set, range(len(usr_set)))}"
      ],
      "metadata": {
        "colab": {
          "base_uri": "https://localhost:8080/"
        },
        "id": "zHCXB9ylDnrA",
        "outputId": "503707ec-a7a9-4610-a601-c16de3769af5"
      },
      "execution_count": 20,
      "outputs": [
        {
          "output_type": "stream",
          "name": "stdout",
          "text": [
            "18149 unique product_id\n",
            "47674 unique users\n"
          ]
        }
      ]
    },
    {
      "cell_type": "code",
      "source": [
        "values = np.array(data_grouped[\"count\"])\n",
        "rows = np.array(data_grouped[\"user_id\"].map(usr_dict))\n",
        "cols = np.array(data_grouped[\"product_id\"].map(prd_dict))\n",
        "mat = scipy.sparse.coo_matrix(\n",
        "    (values, (rows, cols)), shape=(rows.max() + 1, cols.max() + 1)\n",
        ")"
      ],
      "metadata": {
        "id": "m2GrOmszDnuH"
      },
      "execution_count": 21,
      "outputs": []
    },
    {
      "cell_type": "code",
      "source": [
        "user_product = bm25_weight(mat, K1=100, B=0.8)\n",
        "\n",
        "# get the transpose since the most of the functions in implicit expect (user, item) sparse matrices instead of (item, user)\n",
        "user_product = user_product.tocsr()\n",
        "user_plays = user_product"
      ],
      "metadata": {
        "id": "0Bh4A7ovEtm5"
      },
      "execution_count": 25,
      "outputs": []
    },
    {
      "cell_type": "code",
      "source": [
        "als = implicit.als.AlternatingLeastSquares(\n",
        "    factors=16, regularization=1, alpha=3, iterations=100, random_state=42\n",
        ")"
      ],
      "metadata": {
        "id": "91CEFYisA6az"
      },
      "execution_count": 26,
      "outputs": []
    },
    {
      "cell_type": "code",
      "source": [
        "als.fit(user_product)"
      ],
      "metadata": {
        "colab": {
          "base_uri": "https://localhost:8080/",
          "height": 49,
          "referenced_widgets": [
            "a6729468f1bf464fbedc8dfc010cb395",
            "8e6da8ee69d54462a819e4d0f679d6c7",
            "006e68d05f8a42c190370b288de16f6e",
            "6b67e9e4d43244518302e625006ff67f",
            "da966395e07f40e08c544e0d8ef6194f",
            "9bed884acf834f6385eb71439ad74203",
            "06567a3d528f46e58b6eac3856edd559",
            "7b0d5838c6bd48b8a73fca1033aeb468",
            "3daf9551cf10425fbcc87a99af71de64",
            "e2160626328d459492ec07b453af8efe",
            "62fac6b7e2ff49c5ba35360b0ca690d1"
          ]
        },
        "id": "VAOUfHvnD11d",
        "outputId": "267dd01f-f2a9-4b0c-f995-0f6c5345700e"
      },
      "execution_count": 27,
      "outputs": [
        {
          "output_type": "display_data",
          "data": {
            "text/plain": [
              "  0%|          | 0/100 [00:00<?, ?it/s]"
            ],
            "application/vnd.jupyter.widget-view+json": {
              "version_major": 2,
              "version_minor": 0,
              "model_id": "a6729468f1bf464fbedc8dfc010cb395"
            }
          },
          "metadata": {}
        }
      ]
    },
    {
      "cell_type": "code",
      "source": [
        "# Идея в том, чтобы в для юзеров с низким score предлагать 3 самых популярных из тех, что они не брали\n",
        "preds = []\n",
        "print(gt_val[\"user_id\"].shape[0])\n",
        "\n",
        "popular_from_train = (\n",
        "    data_val.groupby([\"product_id\"])[[\"event_time\"]]\n",
        "    .count()\n",
        "    .reset_index()\n",
        "    .sort_values(by=\"event_time\", ascending=False)\n",
        "    .rename(columns={\"event_time\": \"count\"})\n",
        ").reset_index(drop=True)\n",
        "\n",
        "for i, user in tqdm(enumerate(gt_val[\"user_id\"])):\n",
        "    userid = usr_dict[user]\n",
        "    ids, scores = als.recommend(\n",
        "        userid, user_plays[userid], N=3, filter_already_liked_items=True\n",
        "    )\n",
        "    if scores[0] > 0.3:\n",
        "        preds.append(list(np.array(list(prd_dict.keys()))[ids]))\n",
        "    else:\n",
        "        prod = gt_val_val.iloc[i, 1]\n",
        "        preds.append(\n",
        "            popular_from_train[~popular_from_train[\"product_id\"].isin(prod)]\n",
        "            .head(3)[\"product_id\"]\n",
        "            .to_list()\n",
        "        )"
      ],
      "metadata": {
        "colab": {
          "base_uri": "https://localhost:8080/",
          "height": 66,
          "referenced_widgets": [
            "84146973d37f4b9caa1aa9eace685bc4",
            "b8032ba999ff495abe345c071503b734",
            "7e392eb7e4344cabb1b6b945639039b8",
            "ee937a0e6e7746cc8e1a447f82e16dff",
            "31a4fc51a9c843059be1bac1c3863c40",
            "80f07b87360345de9d34cc31bae9ff0d",
            "1f777e9264e149cb9bd0e4452be38306",
            "79bffeeca63b407588c6e0f3bb129f2e",
            "853ab978c410481eb54db694c12eff40",
            "9fb645f45b674b319deb4850c214e283",
            "3872d0ce49e14c1bbac040fb781892d0"
          ]
        },
        "id": "I2717_5RD14H",
        "outputId": "479adf50-f1b0-4243-e401-a3288fb2f71a"
      },
      "execution_count": 28,
      "outputs": [
        {
          "output_type": "stream",
          "name": "stdout",
          "text": [
            "40076\n"
          ]
        },
        {
          "output_type": "display_data",
          "data": {
            "text/plain": [
              "0it [00:00, ?it/s]"
            ],
            "application/vnd.jupyter.widget-view+json": {
              "version_major": 2,
              "version_minor": 0,
              "model_id": "84146973d37f4b9caa1aa9eace685bc4"
            }
          },
          "metadata": {}
        }
      ]
    },
    {
      "cell_type": "code",
      "source": [
        "# 0.07925\n",
        "round(\n",
        "    mapk(\n",
        "        actual=gt_val[\"product_id\"].to_list(),\n",
        "        predicted=preds,\n",
        "        k=3,\n",
        "    ),\n",
        "    5,\n",
        ")"
      ],
      "metadata": {
        "colab": {
          "base_uri": "https://localhost:8080/"
        },
        "id": "H9fO2OMTD16q",
        "outputId": "04ff6cf4-56d6-4739-f020-79265d8e4631"
      },
      "execution_count": 29,
      "outputs": [
        {
          "output_type": "execute_result",
          "data": {
            "text/plain": [
              "0.07925"
            ]
          },
          "metadata": {},
          "execution_count": 29
        }
      ]
    },
    {
      "cell_type": "code",
      "source": [
        "data_grouped = (\n",
        "    data_final_test.groupby([\"user_id\", \"product_id\"])[[\"timestamp\"]]\n",
        "    .count()\n",
        "    .reset_index()\n",
        "    .rename(columns={\"timestamp\": \"count\"})\n",
        ")\n",
        "data_grouped.info()"
      ],
      "metadata": {
        "colab": {
          "base_uri": "https://localhost:8080/"
        },
        "id": "wzLOj7NHD19n",
        "outputId": "642c876e-dd2a-4d14-ef95-1db57252624f"
      },
      "execution_count": 30,
      "outputs": [
        {
          "output_type": "stream",
          "name": "stdout",
          "text": [
            "<class 'pandas.core.frame.DataFrame'>\n",
            "RangeIndex: 86074 entries, 0 to 86073\n",
            "Data columns (total 3 columns):\n",
            " #   Column      Non-Null Count  Dtype\n",
            "---  ------      --------------  -----\n",
            " 0   user_id     86074 non-null  int64\n",
            " 1   product_id  86074 non-null  int64\n",
            " 2   count       86074 non-null  int64\n",
            "dtypes: int64(3)\n",
            "memory usage: 2.0 MB\n"
          ]
        }
      ]
    },
    {
      "cell_type": "code",
      "source": [
        "prd_set = set(data_grouped[\"product_id\"])\n",
        "print(f\"{len(prd_set)} unique product_id\")\n",
        "prd_dict = {url: idurl for url, idurl in zip(prd_set, range(len(prd_set)))}\n",
        "usr_set = set(data_grouped[\"user_id\"])\n",
        "print(f\"{len(usr_set)} unique users\")\n",
        "usr_dict = {usr: user_id for usr, user_id in zip(usr_set, range(len(usr_set)))}"
      ],
      "metadata": {
        "colab": {
          "base_uri": "https://localhost:8080/"
        },
        "id": "ZjtWlumtEGHj",
        "outputId": "51b6d359-4ae2-4a2a-d850-6017a4319d6b"
      },
      "execution_count": 31,
      "outputs": [
        {
          "output_type": "stream",
          "name": "stdout",
          "text": [
            "15478 unique product_id\n",
            "36169 unique users\n"
          ]
        }
      ]
    },
    {
      "cell_type": "code",
      "source": [
        "values = np.array(data_grouped[\"count\"])\n",
        "rows = np.array(data_grouped[\"user_id\"].map(usr_dict))\n",
        "cols = np.array(data_grouped[\"product_id\"].map(prd_dict))\n",
        "mat = scipy.sparse.coo_matrix(\n",
        "    (values, (rows, cols)), shape=(rows.max() + 1, cols.max() + 1)\n",
        ")"
      ],
      "metadata": {
        "id": "0sGJbHw5EGKW"
      },
      "execution_count": 32,
      "outputs": []
    },
    {
      "cell_type": "code",
      "source": [
        "valid_ids = [idx for idx in ids if idx < len(prd_dict.keys())]\n",
        "\n"
      ],
      "metadata": {
        "id": "IBjUJsTDGcC7"
      },
      "execution_count": 36,
      "outputs": []
    },
    {
      "cell_type": "code",
      "source": [
        "gt_val_test = data_final_test.groupby(\"user_id\")[[\"product_id\"]].agg(list).reset_index()\n",
        "gt_val_test[\"product_id\"] = gt_val_test[\"product_id\"].apply(remove_duplicates_order)\n",
        "\n",
        "\n",
        "preds = []\n",
        "\n",
        "popular_from_train = (\n",
        "    data_final_test.groupby([\"product_id\"])[[\"event_time\"]]\n",
        "    .count()\n",
        "    .reset_index()\n",
        "    .sort_values(by=\"event_time\", ascending=False)\n",
        "    .rename(columns={\"event_time\": \"count\"})\n",
        ").reset_index(drop=True)\n",
        "\n",
        "for i, user in enumerate(gt_val_test[\"user_id\"]):\n",
        "    userid = usr_dict[user]\n",
        "    ids, scores = als.recommend(\n",
        "        userid, user_plays[userid], N=3, filter_already_liked_items=True\n",
        "    )\n",
        "    if scores[0] > 0.3:\n",
        "        preds.append(list(np.array(list(prd_dict.keys()))[valid_ids]))\n",
        "    else:\n",
        "        prod = gt_val_test.iloc[i, 1]\n",
        "        preds.append(\n",
        "            popular_from_train[~popular_from_train[\"product_id\"].isin(prod)]\n",
        "            .head(3)[\"product_id\"]\n",
        "            .to_list()\n",
        "        )"
      ],
      "metadata": {
        "id": "UfAA5g06EGMw"
      },
      "execution_count": 37,
      "outputs": []
    },
    {
      "cell_type": "code",
      "source": [
        "df_sub = pd.DataFrame()\n",
        "df_sub[\"user_id\"] = gt_val_test[\"user_id\"]\n",
        "df_sub[\"product_id\"] = preds\n",
        "df_sub[\"product_id\"] = df_sub[\"product_id\"].apply(lambda x: \" \".join(map(str, x)))\n",
        "df_sub"
      ],
      "metadata": {
        "id": "BXeTxpsBAc0v",
        "colab": {
          "base_uri": "https://localhost:8080/",
          "height": 424
        },
        "outputId": "8bb3d461-5699-4ae1-ad1f-63795bf1e46c"
      },
      "execution_count": 38,
      "outputs": [
        {
          "output_type": "execute_result",
          "data": {
            "text/plain": [
              "         user_id               product_id\n",
              "0      313268536                         \n",
              "1      420986446                         \n",
              "2      434350078                         \n",
              "3      440520758                         \n",
              "4      457018572                         \n",
              "...          ...                      ...\n",
              "36164  628852419                         \n",
              "36165  628857344                         \n",
              "36166  628858687                         \n",
              "36167  628865126  1005115 1005100 1004767\n",
              "36168  628866283                         \n",
              "\n",
              "[36169 rows x 2 columns]"
            ],
            "text/html": [
              "\n",
              "  <div id=\"df-dbec33de-75df-4ada-b518-1634363fd8be\" class=\"colab-df-container\">\n",
              "    <div>\n",
              "<style scoped>\n",
              "    .dataframe tbody tr th:only-of-type {\n",
              "        vertical-align: middle;\n",
              "    }\n",
              "\n",
              "    .dataframe tbody tr th {\n",
              "        vertical-align: top;\n",
              "    }\n",
              "\n",
              "    .dataframe thead th {\n",
              "        text-align: right;\n",
              "    }\n",
              "</style>\n",
              "<table border=\"1\" class=\"dataframe\">\n",
              "  <thead>\n",
              "    <tr style=\"text-align: right;\">\n",
              "      <th></th>\n",
              "      <th>user_id</th>\n",
              "      <th>product_id</th>\n",
              "    </tr>\n",
              "  </thead>\n",
              "  <tbody>\n",
              "    <tr>\n",
              "      <th>0</th>\n",
              "      <td>313268536</td>\n",
              "      <td></td>\n",
              "    </tr>\n",
              "    <tr>\n",
              "      <th>1</th>\n",
              "      <td>420986446</td>\n",
              "      <td></td>\n",
              "    </tr>\n",
              "    <tr>\n",
              "      <th>2</th>\n",
              "      <td>434350078</td>\n",
              "      <td></td>\n",
              "    </tr>\n",
              "    <tr>\n",
              "      <th>3</th>\n",
              "      <td>440520758</td>\n",
              "      <td></td>\n",
              "    </tr>\n",
              "    <tr>\n",
              "      <th>4</th>\n",
              "      <td>457018572</td>\n",
              "      <td></td>\n",
              "    </tr>\n",
              "    <tr>\n",
              "      <th>...</th>\n",
              "      <td>...</td>\n",
              "      <td>...</td>\n",
              "    </tr>\n",
              "    <tr>\n",
              "      <th>36164</th>\n",
              "      <td>628852419</td>\n",
              "      <td></td>\n",
              "    </tr>\n",
              "    <tr>\n",
              "      <th>36165</th>\n",
              "      <td>628857344</td>\n",
              "      <td></td>\n",
              "    </tr>\n",
              "    <tr>\n",
              "      <th>36166</th>\n",
              "      <td>628858687</td>\n",
              "      <td></td>\n",
              "    </tr>\n",
              "    <tr>\n",
              "      <th>36167</th>\n",
              "      <td>628865126</td>\n",
              "      <td>1005115 1005100 1004767</td>\n",
              "    </tr>\n",
              "    <tr>\n",
              "      <th>36168</th>\n",
              "      <td>628866283</td>\n",
              "      <td></td>\n",
              "    </tr>\n",
              "  </tbody>\n",
              "</table>\n",
              "<p>36169 rows × 2 columns</p>\n",
              "</div>\n",
              "    <div class=\"colab-df-buttons\">\n",
              "\n",
              "  <div class=\"colab-df-container\">\n",
              "    <button class=\"colab-df-convert\" onclick=\"convertToInteractive('df-dbec33de-75df-4ada-b518-1634363fd8be')\"\n",
              "            title=\"Convert this dataframe to an interactive table.\"\n",
              "            style=\"display:none;\">\n",
              "\n",
              "  <svg xmlns=\"http://www.w3.org/2000/svg\" height=\"24px\" viewBox=\"0 -960 960 960\">\n",
              "    <path d=\"M120-120v-720h720v720H120Zm60-500h600v-160H180v160Zm220 220h160v-160H400v160Zm0 220h160v-160H400v160ZM180-400h160v-160H180v160Zm440 0h160v-160H620v160ZM180-180h160v-160H180v160Zm440 0h160v-160H620v160Z\"/>\n",
              "  </svg>\n",
              "    </button>\n",
              "\n",
              "  <style>\n",
              "    .colab-df-container {\n",
              "      display:flex;\n",
              "      gap: 12px;\n",
              "    }\n",
              "\n",
              "    .colab-df-convert {\n",
              "      background-color: #E8F0FE;\n",
              "      border: none;\n",
              "      border-radius: 50%;\n",
              "      cursor: pointer;\n",
              "      display: none;\n",
              "      fill: #1967D2;\n",
              "      height: 32px;\n",
              "      padding: 0 0 0 0;\n",
              "      width: 32px;\n",
              "    }\n",
              "\n",
              "    .colab-df-convert:hover {\n",
              "      background-color: #E2EBFA;\n",
              "      box-shadow: 0px 1px 2px rgba(60, 64, 67, 0.3), 0px 1px 3px 1px rgba(60, 64, 67, 0.15);\n",
              "      fill: #174EA6;\n",
              "    }\n",
              "\n",
              "    .colab-df-buttons div {\n",
              "      margin-bottom: 4px;\n",
              "    }\n",
              "\n",
              "    [theme=dark] .colab-df-convert {\n",
              "      background-color: #3B4455;\n",
              "      fill: #D2E3FC;\n",
              "    }\n",
              "\n",
              "    [theme=dark] .colab-df-convert:hover {\n",
              "      background-color: #434B5C;\n",
              "      box-shadow: 0px 1px 3px 1px rgba(0, 0, 0, 0.15);\n",
              "      filter: drop-shadow(0px 1px 2px rgba(0, 0, 0, 0.3));\n",
              "      fill: #FFFFFF;\n",
              "    }\n",
              "  </style>\n",
              "\n",
              "    <script>\n",
              "      const buttonEl =\n",
              "        document.querySelector('#df-dbec33de-75df-4ada-b518-1634363fd8be button.colab-df-convert');\n",
              "      buttonEl.style.display =\n",
              "        google.colab.kernel.accessAllowed ? 'block' : 'none';\n",
              "\n",
              "      async function convertToInteractive(key) {\n",
              "        const element = document.querySelector('#df-dbec33de-75df-4ada-b518-1634363fd8be');\n",
              "        const dataTable =\n",
              "          await google.colab.kernel.invokeFunction('convertToInteractive',\n",
              "                                                    [key], {});\n",
              "        if (!dataTable) return;\n",
              "\n",
              "        const docLinkHtml = 'Like what you see? Visit the ' +\n",
              "          '<a target=\"_blank\" href=https://colab.research.google.com/notebooks/data_table.ipynb>data table notebook</a>'\n",
              "          + ' to learn more about interactive tables.';\n",
              "        element.innerHTML = '';\n",
              "        dataTable['output_type'] = 'display_data';\n",
              "        await google.colab.output.renderOutput(dataTable, element);\n",
              "        const docLink = document.createElement('div');\n",
              "        docLink.innerHTML = docLinkHtml;\n",
              "        element.appendChild(docLink);\n",
              "      }\n",
              "    </script>\n",
              "  </div>\n",
              "\n",
              "\n",
              "<div id=\"df-9f40f336-99b9-4141-aee7-3395ee8ab689\">\n",
              "  <button class=\"colab-df-quickchart\" onclick=\"quickchart('df-9f40f336-99b9-4141-aee7-3395ee8ab689')\"\n",
              "            title=\"Suggest charts\"\n",
              "            style=\"display:none;\">\n",
              "\n",
              "<svg xmlns=\"http://www.w3.org/2000/svg\" height=\"24px\"viewBox=\"0 0 24 24\"\n",
              "     width=\"24px\">\n",
              "    <g>\n",
              "        <path d=\"M19 3H5c-1.1 0-2 .9-2 2v14c0 1.1.9 2 2 2h14c1.1 0 2-.9 2-2V5c0-1.1-.9-2-2-2zM9 17H7v-7h2v7zm4 0h-2V7h2v10zm4 0h-2v-4h2v4z\"/>\n",
              "    </g>\n",
              "</svg>\n",
              "  </button>\n",
              "\n",
              "<style>\n",
              "  .colab-df-quickchart {\n",
              "      --bg-color: #E8F0FE;\n",
              "      --fill-color: #1967D2;\n",
              "      --hover-bg-color: #E2EBFA;\n",
              "      --hover-fill-color: #174EA6;\n",
              "      --disabled-fill-color: #AAA;\n",
              "      --disabled-bg-color: #DDD;\n",
              "  }\n",
              "\n",
              "  [theme=dark] .colab-df-quickchart {\n",
              "      --bg-color: #3B4455;\n",
              "      --fill-color: #D2E3FC;\n",
              "      --hover-bg-color: #434B5C;\n",
              "      --hover-fill-color: #FFFFFF;\n",
              "      --disabled-bg-color: #3B4455;\n",
              "      --disabled-fill-color: #666;\n",
              "  }\n",
              "\n",
              "  .colab-df-quickchart {\n",
              "    background-color: var(--bg-color);\n",
              "    border: none;\n",
              "    border-radius: 50%;\n",
              "    cursor: pointer;\n",
              "    display: none;\n",
              "    fill: var(--fill-color);\n",
              "    height: 32px;\n",
              "    padding: 0;\n",
              "    width: 32px;\n",
              "  }\n",
              "\n",
              "  .colab-df-quickchart:hover {\n",
              "    background-color: var(--hover-bg-color);\n",
              "    box-shadow: 0 1px 2px rgba(60, 64, 67, 0.3), 0 1px 3px 1px rgba(60, 64, 67, 0.15);\n",
              "    fill: var(--button-hover-fill-color);\n",
              "  }\n",
              "\n",
              "  .colab-df-quickchart-complete:disabled,\n",
              "  .colab-df-quickchart-complete:disabled:hover {\n",
              "    background-color: var(--disabled-bg-color);\n",
              "    fill: var(--disabled-fill-color);\n",
              "    box-shadow: none;\n",
              "  }\n",
              "\n",
              "  .colab-df-spinner {\n",
              "    border: 2px solid var(--fill-color);\n",
              "    border-color: transparent;\n",
              "    border-bottom-color: var(--fill-color);\n",
              "    animation:\n",
              "      spin 1s steps(1) infinite;\n",
              "  }\n",
              "\n",
              "  @keyframes spin {\n",
              "    0% {\n",
              "      border-color: transparent;\n",
              "      border-bottom-color: var(--fill-color);\n",
              "      border-left-color: var(--fill-color);\n",
              "    }\n",
              "    20% {\n",
              "      border-color: transparent;\n",
              "      border-left-color: var(--fill-color);\n",
              "      border-top-color: var(--fill-color);\n",
              "    }\n",
              "    30% {\n",
              "      border-color: transparent;\n",
              "      border-left-color: var(--fill-color);\n",
              "      border-top-color: var(--fill-color);\n",
              "      border-right-color: var(--fill-color);\n",
              "    }\n",
              "    40% {\n",
              "      border-color: transparent;\n",
              "      border-right-color: var(--fill-color);\n",
              "      border-top-color: var(--fill-color);\n",
              "    }\n",
              "    60% {\n",
              "      border-color: transparent;\n",
              "      border-right-color: var(--fill-color);\n",
              "    }\n",
              "    80% {\n",
              "      border-color: transparent;\n",
              "      border-right-color: var(--fill-color);\n",
              "      border-bottom-color: var(--fill-color);\n",
              "    }\n",
              "    90% {\n",
              "      border-color: transparent;\n",
              "      border-bottom-color: var(--fill-color);\n",
              "    }\n",
              "  }\n",
              "</style>\n",
              "\n",
              "  <script>\n",
              "    async function quickchart(key) {\n",
              "      const quickchartButtonEl =\n",
              "        document.querySelector('#' + key + ' button');\n",
              "      quickchartButtonEl.disabled = true;  // To prevent multiple clicks.\n",
              "      quickchartButtonEl.classList.add('colab-df-spinner');\n",
              "      try {\n",
              "        const charts = await google.colab.kernel.invokeFunction(\n",
              "            'suggestCharts', [key], {});\n",
              "      } catch (error) {\n",
              "        console.error('Error during call to suggestCharts:', error);\n",
              "      }\n",
              "      quickchartButtonEl.classList.remove('colab-df-spinner');\n",
              "      quickchartButtonEl.classList.add('colab-df-quickchart-complete');\n",
              "    }\n",
              "    (() => {\n",
              "      let quickchartButtonEl =\n",
              "        document.querySelector('#df-9f40f336-99b9-4141-aee7-3395ee8ab689 button');\n",
              "      quickchartButtonEl.style.display =\n",
              "        google.colab.kernel.accessAllowed ? 'block' : 'none';\n",
              "    })();\n",
              "  </script>\n",
              "</div>\n",
              "    </div>\n",
              "  </div>\n"
            ],
            "application/vnd.google.colaboratory.intrinsic+json": {
              "type": "dataframe",
              "variable_name": "df_sub",
              "summary": "{\n  \"name\": \"df_sub\",\n  \"rows\": 36169,\n  \"fields\": [\n    {\n      \"column\": \"user_id\",\n      \"properties\": {\n        \"dtype\": \"number\",\n        \"std\": 40455957,\n        \"min\": 313268536,\n        \"max\": 628866283,\n        \"num_unique_values\": 36169,\n        \"samples\": [\n          530910108,\n          598839012,\n          579516754\n        ],\n        \"semantic_type\": \"\",\n        \"description\": \"\"\n      }\n    },\n    {\n      \"column\": \"product_id\",\n      \"properties\": {\n        \"dtype\": \"category\",\n        \"num_unique_values\": 41,\n        \"samples\": [\n          \"1005100 1004767 4804056\",\n          \"1005100 1002544 1005212\",\n          \"1004767 1002544 100068488\"\n        ],\n        \"semantic_type\": \"\",\n        \"description\": \"\"\n      }\n    }\n  ]\n}"
            }
          },
          "metadata": {},
          "execution_count": 38
        }
      ]
    },
    {
      "cell_type": "code",
      "source": [
        "df_sub.to_csv(\"sample_submission.csv\", index=False)"
      ],
      "metadata": {
        "id": "j4uJXs9FAc3K"
      },
      "execution_count": 39,
      "outputs": []
    }
  ]
}